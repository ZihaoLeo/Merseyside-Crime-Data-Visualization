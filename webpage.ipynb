{
 "cells": [
  {
   "cell_type": "markdown",
   "metadata": {},
   "source": [
    "Criminal geography is a branch of criminology that focuses on the spatial distribution and temporal patterns of criminal behavior. Research in this area reveals that crime occurrence is not random but is influenced by a variety of socioeconomic factors. By creating visual maps, people can better understand crime hotspots and help prevent crime. Merseyside is an important metropolitan area in the UK. Its complex social structure and dense population distribution make it an ideal case for understanding urban crime patterns. At the same time, this is also the area where I live and understand, so I would like to know the security situation around the area where I live and during this period.\n",
    "\n",
    "Designed to explore Merseyside crime data, this dashboard provides an interactive view that allows users to understand crime distribution from multiple perspectives. By integrating the map with various visualization tools, the goal is to reveal relationships between crime types, locations, and their changes over time. The project not only demonstrates how to effectively utilize spatial data for in-depth analysis, but also seeks to enhance the user experience through a series of interactive elements. The project mainly includes the crime data released by the Merseyside Police in the past six months. Through map display, it provides a way for the public living in Merseyside to understand the public safety around them and promotes relevant Reflection and discussion on social and public safety.\n",
    "\n",
    "At first load all necessary library functions"
   ]
  },
  {
   "cell_type": "code",
   "execution_count": null,
   "metadata": {},
   "outputs": [],
   "source": [
    "import osmnx as ox\n",
    "import folium\n",
    "import pandas as pd\n",
    "from pathlib import Path\n",
    "import seaborn as sns\n",
    "import matplotlib.pyplot as plt\n",
    "import osmnx as ox\n",
    "import pandas as pd\n",
    "import folium\n",
    "import panel as pn\n",
    "from folium.plugins import MarkerCluster\n",
    "from pathlib import Path\n",
    "from IPython.display import HTML\n",
    "from bokeh.resources import INLINE"
   ]
  },
  {
   "cell_type": "markdown",
   "metadata": {},
   "source": [
    "Visualization of the geographical boundaries of Merseyside. This section is dedicated to visualizing the geographical boundaries of Merseyside, England. I utilize the “osmnx” library to obtain boundary data in GeoDataFrame format. The purpose of this visualization is to provide a clear and immediate understanding of the extent and layout of Merseyside. and also serves as a basic visual tool for further analysis of spatial data in the region."
   ]
  },
  {
   "cell_type": "code",
   "execution_count": null,
   "metadata": {},
   "outputs": [],
   "source": [
    "# Get the geographical boundaries of Merseyside\n",
    "place_name = \"Merseyside, England\"\n",
    "merseyside_boundary = ox.geocode_to_gdf(place_name)\n",
    "\n",
    "# Create map\n",
    "def show_boundary_map():\n",
    "    center_lat, center_lon = 53.4084, -2.9916  # Approximate central location of Merseyside\n",
    "    map_boundary = folium.Map(location=[center_lat, center_lon], zoom_start=10)\n",
    "    folium.GeoJson(\n",
    "        merseyside_boundary,\n",
    "        name='Merseyside Boundary',\n",
    "        style_function=lambda feature: {'color': 'black', 'weight': 2, 'fillOpacity': 0.1}\n",
    "    ).add_to(map_boundary)\n",
    "    return map_boundary\n",
    "\n",
    "# show map\n",
    "boundary_map = show_boundary_map()\n",
    "boundary_map"
   ]
  },
  {
   "cell_type": "markdown",
   "metadata": {},
   "source": [
    "For this dashboard we used the Merseyside publicly available crime dataset, which includes detailed records of criminal activity from September 2023 to February 2024. This is the latest six-month figure released by police. The dataset contains various attributes such as crime type, end result, and approximate location, enabling comprehensive time series and geospatial analysis. During the initial visualization design process, I designed visual representations such as histograms and scatter plots to make data interpretation intuitive. From the histogram, it can be seen that Violence and sexual offenses are the most frequently recorded crimes, while Possession of weapons is the least. This level of detail allows us to represent criminal activity across multiple dimensions, helping to understand its dynamics and spatial correlations."
   ]
  },
  {
   "cell_type": "code",
   "execution_count": null,
   "metadata": {},
   "outputs": [],
   "source": [
    "# Data loading\n",
    "data_folder = Path(\"D:/envs456/data/crime data\")\n",
    "files = [data_folder / f\"2023-{i:02d}-merseyside-street.csv\" for i in range(9, 13)]\n",
    "files += [data_folder / f\"2024-{i:02d}-merseyside-street.csv\" for i in range(1, 3)]\n",
    "data_frames = [pd.read_csv(file) for file in files]\n",
    "all_data = pd.concat(data_frames, ignore_index=True)\n",
    "\n",
    "#Data preprocessing\n",
    "all_data['Month'] = pd.to_datetime(all_data['Month']).dt.to_period('M')\n",
    "\n",
    "#Set the size of the graphic\n",
    "plt.figure(figsize=(12, 6))  \n",
    "# Histogram\n",
    "sns.histplot(data=all_data, x='Crime type', color='blue')\n",
    "plt.xticks(rotation=45)\n",
    "plt.show()\n",
    "\n",
    "# Set the size of the scatter plot\n",
    "plt.figure(figsize=(14, 8))  \n",
    "# Scatter plot\n",
    "scatter_plot = sns.scatterplot(data=all_data, x='Longitude', y='Latitude', hue='Crime type', style='Crime type')\n",
    "scatter_plot.legend(title='Crime Type', bbox_to_anchor=(1.05, 1), loc='upper left', fontsize='small')  # 调整图例的位置和大小\n",
    "plt.show()"
   ]
  },
  {
   "cell_type": "markdown",
   "metadata": {},
   "source": [
    "The interactive design of our dashboard is centered on enhancing user engagement. I included a time filter slider and a crime type dropdown to allow users to tailor the data views to specific months or crime types. This customization makes the analysis more targeted and increases user interaction with the dataset. The map's interactive markers reveal detailed information about each crime event, such as type and outcome, with Liverpool city center showing a high concentration of incidents. This approach not only enriches the dashboard's informational depth but also highlights spatial trends in crime distribution, making data exploration more dynamic and informative."
   ]
  },
  {
   "cell_type": "code",
   "execution_count": null,
   "metadata": {},
   "outputs": [],
   "source": [
    "# Initialize Panel and set OSMnx to use cache\n",
    "pn.extension()\n",
    "ox.settings.use_cache = True\n",
    "\n",
    "# Month selector\n",
    "months = all_data['Month'].dt.strftime('%Y-%m').unique().tolist()\n",
    "month_slider = pn.widgets.DiscreteSlider(name='Select Month', options=months, value=months[0])\n",
    "\n",
    "# Crime type selector\n",
    "crime_types = ['All Crimes'] + sorted(all_data['Crime type'].unique().tolist())\n",
    "crime_selector = pn.widgets.Select(name='Select Crime Type', options=crime_types, value='All Crimes')\n",
    "\n",
    "# Crime type and color mapping\n",
    "crime_color_map = {\n",
    "    'Anti-social behaviour': 'blue',\n",
    "    'Bicycle theft': 'green',\n",
    "    'Burglary': 'purple',\n",
    "    'Criminal damage and arson': 'red',\n",
    "    'Drugs': 'gray',\n",
    "    'Other crime': 'darkblue',\n",
    "    'Other theft': 'darkgreen',\n",
    "    'Possession of weapons': 'orange',\n",
    "    'Public order': 'lightblue',\n",
    "    'Robbery': 'pink',\n",
    "    'Shoplifting': 'cadetblue',\n",
    "    'Theft from the person': 'lightgreen',\n",
    "    'Vehicle crime': 'black',\n",
    "    'Violence and sexual offences': 'darkred'\n",
    "}\n",
    "\n",
    "# Function to create the map\n",
    "def create_folium_map(data):\n",
    "    center_lat, center_lon = 53.4084, -2.9916  # Approximate center of Merseyside\n",
    "    folium_map = folium.Map(location=[center_lat, center_lon], zoom_start=10, min_zoom=9, max_zoom=15)\n",
    "    marker_cluster = MarkerCluster().add_to(folium_map)\n",
    "\n",
    "    # Add Merseyside boundary to the map\n",
    "    folium.GeoJson(\n",
    "        merseyside_boundary,\n",
    "        name='Merseyside Boundary',\n",
    "        style_function=lambda feature: {'color': 'black', 'weight': 2, 'fillOpacity': 0.1}\n",
    "    ).add_to(folium_map)\n",
    "\n",
    "    # Create and add legend\n",
    "    legend_html = '''\n",
    "    <div style=\"position: fixed; \n",
    "                top: 10px; right: 10px; width: 120px; height: auto; \n",
    "                background-color: rgba(255,255,255,0.7); border:1px solid grey; z-index:9999; font-size:12px;\n",
    "                padding: 5px 10px;\">\n",
    "      &nbsp; Crime Type <br>\n",
    "    '''\n",
    "    for crime, color in crime_color_map.items():\n",
    "        legend_html += f'<i style=\"background: {color}; width: 12px; height: 12px; float: left; opacity: 0.7;\"></i>&nbsp;{crime}<br>'\n",
    "    legend_html += '</div>'\n",
    "    folium_map.get_root().html.add_child(folium.Element(legend_html))\n",
    "\n",
    "    # Add crime data markers\n",
    "    for idx, row in data.iterrows():\n",
    "        marker_color = crime_color_map.get(row['Crime type'], 'gray')\n",
    "        folium.Marker(\n",
    "            location=[row['Latitude'], row['Longitude']],\n",
    "            popup=f\"Crime Type: {row['Crime type']}<br>Last Outcome: {row['Last outcome category']}\",\n",
    "            icon=folium.Icon(color=marker_color)\n",
    "        ).add_to(marker_cluster)\n",
    "\n",
    "    return folium_map\n",
    "\n",
    "# Function to update the map\n",
    "@pn.depends(month_slider.param.value, crime_selector.param.value)\n",
    "def update_map(selected_month, selected_crime):\n",
    "    filtered_data = all_data[(all_data['Month'] == selected_month) & (all_data['Crime type'] == selected_crime)] if selected_crime != 'All Crimes' else all_data[all_data['Month'] == selected_month]\n",
    "    folium_map_html = create_folium_map(filtered_data)._repr_html_()\n",
    "    return pn.pane.HTML(folium_map_html, width=1000, height=600, sizing_mode='fixed')\n",
    "\n",
    "# Build and display the dashboard\n",
    "dashboard = pn.Column(\n",
    "    pn.Row(month_slider, crime_selector, width=1000, height=50, sizing_mode='fixed'),  # Ensure the Row also has fixed sizing\n",
    "    update_map,\n",
    "    width=1000, height=660, sizing_mode='fixed'  # Added sizing_mode for explicit configuration\n",
    ")\n",
    "dashboard.save('D:/envs456/labs/dashboard.html', embed=True, resources=INLINE)\n",
    "with open('D:/envs456/labs/dashboard.html', 'r') as file:\n",
    "    html_content = file.read()\n",
    "HTML(html_content)"
   ]
  },
  {
   "cell_type": "markdown",
   "metadata": {},
   "source": [
    "The resulting map allows for viewing the location and details of different areas and crime cases at appropriate zoom levels. In addition, I also made different color legends for different crime types, so that when viewing all crimes, you can clearly see where and what kind of crimes occurred.From this final map, I could clearly see where crime was occurring, down to the street and block level. At the same time, I can clearly understand what type of cases occurred where on the map through the color legend. If I need to check the geographical information of a specific time or a specific type of crime. I can make selections via the map's widget. These designs provide an intuitive and concise crime information visualization map for ordinary people and crime researchers."
   ]
  }
 ],
 "metadata": {
  "language_info": {
   "name": "python"
  }
 },
 "nbformat": 4,
 "nbformat_minor": 2
}
